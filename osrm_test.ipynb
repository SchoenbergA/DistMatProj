{
 "cells": [
  {
   "cell_type": "code",
   "execution_count": 18,
   "metadata": {},
   "outputs": [],
   "source": [
    "import osrm"
   ]
  },
  {
   "cell_type": "code",
   "execution_count": 19,
   "metadata": {},
   "outputs": [
    {
     "name": "stdout",
     "output_type": "stream",
     "text": [
      "['/home/praisethesun/MyAllemanVar/Distanzmatrix', '/home/praisethesun/anaconda3/envs/gdal_env/lib/python311.zip', '/home/praisethesun/anaconda3/envs/gdal_env/lib/python3.11', '/home/praisethesun/anaconda3/envs/gdal_env/lib/python3.11/lib-dynload', '', '/home/praisethesun/anaconda3/envs/gdal_env/lib/python3.11/site-packages']\n"
     ]
    }
   ],
   "source": [
    "import sys\n",
    "print(sys.path)\n",
    "#import sys\n",
    "#sys.path.insert(0, \"/home/praisethesun/anaconda3/lib/python3.8/site-packages/osgeo\")\n",
    "#print(sys.path)"
   ]
  },
  {
   "cell_type": "code",
   "execution_count": 20,
   "metadata": {},
   "outputs": [],
   "source": [
    "#osrm.RequestConfig.profile = 'car'"
   ]
  },
  {
   "cell_type": "code",
   "execution_count": 21,
   "metadata": {},
   "outputs": [
    {
     "data": {
      "text/plain": "             name1        name2        name3\nname1     0.000000  6881.938333  6903.960000\nname2  6882.256667     0.000000    66.261667\nname3  6904.581667    66.736667     0.000000",
      "text/html": "<div>\n<style scoped>\n    .dataframe tbody tr th:only-of-type {\n        vertical-align: middle;\n    }\n\n    .dataframe tbody tr th {\n        vertical-align: top;\n    }\n\n    .dataframe thead th {\n        text-align: right;\n    }\n</style>\n<table border=\"1\" class=\"dataframe\">\n  <thead>\n    <tr style=\"text-align: right;\">\n      <th></th>\n      <th>name1</th>\n      <th>name2</th>\n      <th>name3</th>\n    </tr>\n  </thead>\n  <tbody>\n    <tr>\n      <th>name1</th>\n      <td>0.000000</td>\n      <td>6881.938333</td>\n      <td>6903.960000</td>\n    </tr>\n    <tr>\n      <th>name2</th>\n      <td>6882.256667</td>\n      <td>0.000000</td>\n      <td>66.261667</td>\n    </tr>\n    <tr>\n      <th>name3</th>\n      <td>6904.581667</td>\n      <td>66.736667</td>\n      <td>0.000000</td>\n    </tr>\n  </tbody>\n</table>\n</div>"
     },
     "execution_count": 21,
     "metadata": {},
     "output_type": "execute_result"
    }
   ],
   "source": [
    "list_coord = [[7.6471, 48.2234],\n",
    "              [10.3469, 52.0063],\n",
    "              [10.3531, 52.0383]]\n",
    "\n",
    "list_id = ['name1', 'name2', 'name3']\n",
    "\n",
    "time_matrix, snapped_coords, _ = osrm.table(list_coord, ids_origin=list_id, output='dataframe')\n",
    "\n",
    "time_matrix/60"
   ]
  },
  {
   "cell_type": "code",
   "execution_count": 1,
   "metadata": {},
   "outputs": [],
   "source": [
    "import pandas as pd"
   ]
  },
  {
   "cell_type": "code",
   "execution_count": 6,
   "metadata": {},
   "outputs": [],
   "source": [
    "wenkerAOI = pd.read_csv('./DistMatProj/medium_AOI/Wenker_places_medium_AOI.csv')"
   ]
  },
  {
   "cell_type": "code",
   "execution_count": 3,
   "metadata": {},
   "outputs": [],
   "source": [
    "duplicates = wenkerAOI[wenkerAOI.duplicated(subset=['gid', 'ort', 'X', 'Y'], keep=False)]"
   ]
  },
  {
   "cell_type": "code",
   "execution_count": 4,
   "metadata": {},
   "outputs": [
    {
     "data": {
      "text/plain": "             X        Y    fid  \\\n12102   7.6319  48.9054  12103   \n12103   7.6319  48.9054  12104   \n0       7.6471  48.2234      1   \n12295   7.6471  48.2234  12296   \n10792  11.9565  49.0728  10793   \n...        ...      ...    ...   \n14851   8.5859  50.2401  14852   \n10940  11.0814  49.4738  10941   \n10954  11.0814  49.4738  10955   \n6056    7.4825  51.1107   6057   \n15756   7.4825  51.1107  15757   \n\n                                                     api     gid  \\\n12102  https://wenker.online.uni-marburg.de/api/v1/we...   25012   \n12103  https://wenker.online.uni-marburg.de/api/v1/we...   25012   \n0      https://wenker.online.uni-marburg.de/api/v1/we...   31024   \n12295  https://wenker.online.uni-marburg.de/api/v1/we...   31024   \n10792  https://wenker.online.uni-marburg.de/api/v1/we...   71399   \n...                                                  ...     ...   \n14851  https://wenker.online.uni-marburg.de/api/v1/we...  544200   \n10940  https://wenker.online.uni-marburg.de/api/v1/we...  544227   \n10954  https://wenker.online.uni-marburg.de/api/v1/we...  544227   \n6056   https://wenker.online.uni-marburg.de/api/v1/we...  544279   \n15756  https://wenker.online.uni-marburg.de/api/v1/we...  544279   \n\n                    ort                                               link  \\\n12102  Gumbrechtshoffen  https://wenker.online.uni-marburg.de/wenker/36661   \n12103  Gumbrechtshoffen  https://wenker.online.uni-marburg.de/wenker/36662   \n0              Schoenau  https://wenker.online.uni-marburg.de/wenker/00793   \n12295          Schoenau  https://wenker.online.uni-marburg.de/wenker/36946   \n10792       Pielenhofen  https://wenker.online.uni-marburg.de/wenker/35190   \n...                 ...                                                ...   \n14851    Dornholzhausen  https://wenker.online.uni-marburg.de/wenker/30133   \n10940         Großreuth  https://wenker.online.uni-marburg.de/wenker/35338   \n10954         Großreuth  https://wenker.online.uni-marburg.de/wenker/35352   \n6056    Oberklüppelberg  https://wenker.online.uni-marburg.de/wenker/23858   \n15756   Oberklüppelberg  https://wenker.online.uni-marburg.de/wenker/29124   \n\n      bogennumme  \n12102      36661  \n12103      36662  \n0          00793  \n12295      36946  \n10792      35190  \n...          ...  \n14851      30133  \n10940      35338  \n10954      35352  \n6056       23858  \n15756      29124  \n\n[425 rows x 8 columns]",
      "text/html": "<div>\n<style scoped>\n    .dataframe tbody tr th:only-of-type {\n        vertical-align: middle;\n    }\n\n    .dataframe tbody tr th {\n        vertical-align: top;\n    }\n\n    .dataframe thead th {\n        text-align: right;\n    }\n</style>\n<table border=\"1\" class=\"dataframe\">\n  <thead>\n    <tr style=\"text-align: right;\">\n      <th></th>\n      <th>X</th>\n      <th>Y</th>\n      <th>fid</th>\n      <th>api</th>\n      <th>gid</th>\n      <th>ort</th>\n      <th>link</th>\n      <th>bogennumme</th>\n    </tr>\n  </thead>\n  <tbody>\n    <tr>\n      <th>12102</th>\n      <td>7.6319</td>\n      <td>48.9054</td>\n      <td>12103</td>\n      <td>https://wenker.online.uni-marburg.de/api/v1/we...</td>\n      <td>25012</td>\n      <td>Gumbrechtshoffen</td>\n      <td>https://wenker.online.uni-marburg.de/wenker/36661</td>\n      <td>36661</td>\n    </tr>\n    <tr>\n      <th>12103</th>\n      <td>7.6319</td>\n      <td>48.9054</td>\n      <td>12104</td>\n      <td>https://wenker.online.uni-marburg.de/api/v1/we...</td>\n      <td>25012</td>\n      <td>Gumbrechtshoffen</td>\n      <td>https://wenker.online.uni-marburg.de/wenker/36662</td>\n      <td>36662</td>\n    </tr>\n    <tr>\n      <th>0</th>\n      <td>7.6471</td>\n      <td>48.2234</td>\n      <td>1</td>\n      <td>https://wenker.online.uni-marburg.de/api/v1/we...</td>\n      <td>31024</td>\n      <td>Schoenau</td>\n      <td>https://wenker.online.uni-marburg.de/wenker/00793</td>\n      <td>00793</td>\n    </tr>\n    <tr>\n      <th>12295</th>\n      <td>7.6471</td>\n      <td>48.2234</td>\n      <td>12296</td>\n      <td>https://wenker.online.uni-marburg.de/api/v1/we...</td>\n      <td>31024</td>\n      <td>Schoenau</td>\n      <td>https://wenker.online.uni-marburg.de/wenker/36946</td>\n      <td>36946</td>\n    </tr>\n    <tr>\n      <th>10792</th>\n      <td>11.9565</td>\n      <td>49.0728</td>\n      <td>10793</td>\n      <td>https://wenker.online.uni-marburg.de/api/v1/we...</td>\n      <td>71399</td>\n      <td>Pielenhofen</td>\n      <td>https://wenker.online.uni-marburg.de/wenker/35190</td>\n      <td>35190</td>\n    </tr>\n    <tr>\n      <th>...</th>\n      <td>...</td>\n      <td>...</td>\n      <td>...</td>\n      <td>...</td>\n      <td>...</td>\n      <td>...</td>\n      <td>...</td>\n      <td>...</td>\n    </tr>\n    <tr>\n      <th>14851</th>\n      <td>8.5859</td>\n      <td>50.2401</td>\n      <td>14852</td>\n      <td>https://wenker.online.uni-marburg.de/api/v1/we...</td>\n      <td>544200</td>\n      <td>Dornholzhausen</td>\n      <td>https://wenker.online.uni-marburg.de/wenker/30133</td>\n      <td>30133</td>\n    </tr>\n    <tr>\n      <th>10940</th>\n      <td>11.0814</td>\n      <td>49.4738</td>\n      <td>10941</td>\n      <td>https://wenker.online.uni-marburg.de/api/v1/we...</td>\n      <td>544227</td>\n      <td>Großreuth</td>\n      <td>https://wenker.online.uni-marburg.de/wenker/35338</td>\n      <td>35338</td>\n    </tr>\n    <tr>\n      <th>10954</th>\n      <td>11.0814</td>\n      <td>49.4738</td>\n      <td>10955</td>\n      <td>https://wenker.online.uni-marburg.de/api/v1/we...</td>\n      <td>544227</td>\n      <td>Großreuth</td>\n      <td>https://wenker.online.uni-marburg.de/wenker/35352</td>\n      <td>35352</td>\n    </tr>\n    <tr>\n      <th>6056</th>\n      <td>7.4825</td>\n      <td>51.1107</td>\n      <td>6057</td>\n      <td>https://wenker.online.uni-marburg.de/api/v1/we...</td>\n      <td>544279</td>\n      <td>Oberklüppelberg</td>\n      <td>https://wenker.online.uni-marburg.de/wenker/23858</td>\n      <td>23858</td>\n    </tr>\n    <tr>\n      <th>15756</th>\n      <td>7.4825</td>\n      <td>51.1107</td>\n      <td>15757</td>\n      <td>https://wenker.online.uni-marburg.de/api/v1/we...</td>\n      <td>544279</td>\n      <td>Oberklüppelberg</td>\n      <td>https://wenker.online.uni-marburg.de/wenker/29124</td>\n      <td>29124</td>\n    </tr>\n  </tbody>\n</table>\n<p>425 rows × 8 columns</p>\n</div>"
     },
     "execution_count": 4,
     "metadata": {},
     "output_type": "execute_result"
    }
   ],
   "source": [
    "duplicates.sort_values('gid')"
   ]
  },
  {
   "cell_type": "code",
   "execution_count": 7,
   "outputs": [
    {
     "data": {
      "text/plain": "Empty DataFrame\nColumns: [X, Y, fid, api, gid, ort, link, bogennumme]\nIndex: []",
      "text/html": "<div>\n<style scoped>\n    .dataframe tbody tr th:only-of-type {\n        vertical-align: middle;\n    }\n\n    .dataframe tbody tr th {\n        vertical-align: top;\n    }\n\n    .dataframe thead th {\n        text-align: right;\n    }\n</style>\n<table border=\"1\" class=\"dataframe\">\n  <thead>\n    <tr style=\"text-align: right;\">\n      <th></th>\n      <th>X</th>\n      <th>Y</th>\n      <th>fid</th>\n      <th>api</th>\n      <th>gid</th>\n      <th>ort</th>\n      <th>link</th>\n      <th>bogennumme</th>\n    </tr>\n  </thead>\n  <tbody>\n  </tbody>\n</table>\n</div>"
     },
     "execution_count": 7,
     "metadata": {},
     "output_type": "execute_result"
    }
   ],
   "source": [
    "wenkerAOI[wenkerAOI['gid'] == 621]"
   ],
   "metadata": {
    "collapsed": false
   }
  },
  {
   "cell_type": "code",
   "execution_count": 26,
   "outputs": [],
   "source": [
    "wenkerAOI = wenkerAOI[~wenkerAOI.duplicated(subset=['gid', 'ort', 'X', 'Y'])]"
   ],
   "metadata": {
    "collapsed": false
   }
  },
  {
   "cell_type": "code",
   "execution_count": null,
   "outputs": [],
   "source": [],
   "metadata": {
    "collapsed": false
   }
  },
  {
   "cell_type": "code",
   "execution_count": 27,
   "metadata": {},
   "outputs": [],
   "source": [
    "gids = wenkerAOI['gid']\n",
    "wenkerAOI = wenkerAOI[['X', 'Y']]"
   ]
  },
  {
   "cell_type": "code",
   "execution_count": 28,
   "metadata": {},
   "outputs": [],
   "source": [
    "wenkerAOI = wenkerAOI.iloc[0:2000]\n",
    "gids = gids.iloc[0:2000]"
   ]
  },
  {
   "cell_type": "code",
   "execution_count": 29,
   "metadata": {},
   "outputs": [
    {
     "data": {
      "text/plain": "(2000,)"
     },
     "execution_count": 29,
     "metadata": {},
     "output_type": "execute_result"
    }
   ],
   "source": [
    "gids.values.shape"
   ]
  },
  {
   "cell_type": "code",
   "execution_count": 30,
   "metadata": {},
   "outputs": [
    {
     "data": {
      "text/plain": "(2000, 2)"
     },
     "execution_count": 30,
     "metadata": {},
     "output_type": "execute_result"
    }
   ],
   "source": [
    "wenkerAOI.to_numpy().shape"
   ]
  },
  {
   "cell_type": "code",
   "execution_count": 31,
   "metadata": {},
   "outputs": [],
   "source": [
    "time_matrix, snapped_coords, _ = osrm.table(wenkerAOI.values, ids_origin=list(gids.values), output='dataframe')"
   ]
  },
  {
   "cell_type": "code",
   "execution_count": 32,
   "metadata": {},
   "outputs": [
    {
     "data": {
      "text/plain": "             31024        112699       117157       114841       547899  \\\n31024      0.000000  6881.938333  6903.960000  6930.938333  6936.295000   \n112699  6882.256667     0.000000    66.261667    93.240000    98.596667   \n117157  6904.581667    66.736667     0.000000    27.390000    32.746667   \n114841  6932.393333    94.548333    28.223333     0.000000     6.511667   \n547899  6937.638333    99.793333    33.468333     6.391667     0.000000   \n...             ...          ...          ...          ...          ...   \n534234  3215.851667  3860.618333  3882.640000  3909.618333  3914.975000   \n98815   3200.956667  3829.983333  3852.005000  3878.983333  3884.340000   \n96464   3098.641667  3955.725000  3977.746667  4004.725000  4010.081667   \n99724   3123.753333  3928.245000  3950.266667  3977.245000  3982.601667   \n97324   3149.011667  3882.746667  3904.768333  3931.746667  3937.103333   \n\n             112094       108890       110381       111833       108998  ...  \\\n31024   6985.168333  6962.906667  7000.793333  7055.186667  6994.615000  ...   \n112699   147.470000   125.208333   160.751667   208.895000   124.326667  ...   \n117157    81.620000    59.358333    97.245000   151.638333    91.066667  ...   \n114841    54.353333    37.766667    70.325000   124.718333    69.475000  ...   \n547899    49.198333    41.483333    69.028333   123.216667    72.351667  ...   \n...             ...          ...          ...          ...          ...  ...   \n534234  3963.848333  3941.586667  3979.473333  4033.866667  3973.295000  ...   \n98815   3933.213333  3910.951667  3948.838333  4003.231667  3942.660000  ...   \n96464   4058.955000  4036.693333  4074.580000  4128.973333  4068.401667  ...   \n99724   4031.475000  4009.213333  4047.100000  4101.493333  4040.921667  ...   \n97324   3985.976667  3963.715000  4001.601667  4055.995000  3995.423333  ...   \n\n             95367        97086        97561        94665        100989  \\\n31024   3144.645000  3185.823333  3115.233333  3115.273333  3205.376667   \n112699  4032.180000  3987.491667  4056.625000  4044.465000  3903.250000   \n117157  4054.505000  4009.816667  4078.950000  4066.790000  3925.575000   \n114841  4082.316667  4037.628333  4106.761667  4094.601667  3953.386667   \n547899  4087.561667  4042.873333  4112.006667  4099.846667  3958.631667   \n...             ...          ...          ...          ...          ...   \n534234   231.583333   194.940000   244.741667   220.348333   112.378333   \n98815    269.843333   235.558333   283.001667   258.608333   155.163333   \n96464    224.166667   191.350000   200.993333   176.600000   130.905000   \n99724    230.025000   195.740000   225.651667   201.258333   127.548333   \n97324    254.713333   220.428333   265.343333   240.950000   152.048333   \n\n             534234       98815        96464        99724        97324   \n31024   3226.246667  3204.653333  3098.793333  3125.781667  3153.063333  \n112699  3871.105000  3833.738333  3955.936667  3930.318333  3886.851667  \n117157  3893.430000  3856.063333  3978.261667  3952.643333  3909.176667  \n114841  3921.241667  3883.875000  4006.073333  3980.455000  3936.988333  \n547899  3926.486667  3889.120000  4011.318333  3985.700000  3942.233333  \n...             ...          ...          ...          ...          ...  \n534234     0.000000    42.865000   129.401667   104.783333    79.108333  \n98815     49.383333     0.000000   124.468333    98.850000    55.383333  \n96464    139.270000   128.013333     0.000000    29.270000    72.978333  \n99724    112.781667   100.533333    27.401667     0.000000    45.498333  \n97324     84.943333    55.035000    69.085000    43.466667     0.000000  \n\n[2000 rows x 2000 columns]",
      "text/html": "<div>\n<style scoped>\n    .dataframe tbody tr th:only-of-type {\n        vertical-align: middle;\n    }\n\n    .dataframe tbody tr th {\n        vertical-align: top;\n    }\n\n    .dataframe thead th {\n        text-align: right;\n    }\n</style>\n<table border=\"1\" class=\"dataframe\">\n  <thead>\n    <tr style=\"text-align: right;\">\n      <th></th>\n      <th>31024</th>\n      <th>112699</th>\n      <th>117157</th>\n      <th>114841</th>\n      <th>547899</th>\n      <th>112094</th>\n      <th>108890</th>\n      <th>110381</th>\n      <th>111833</th>\n      <th>108998</th>\n      <th>...</th>\n      <th>95367</th>\n      <th>97086</th>\n      <th>97561</th>\n      <th>94665</th>\n      <th>100989</th>\n      <th>534234</th>\n      <th>98815</th>\n      <th>96464</th>\n      <th>99724</th>\n      <th>97324</th>\n    </tr>\n  </thead>\n  <tbody>\n    <tr>\n      <th>31024</th>\n      <td>0.000000</td>\n      <td>6881.938333</td>\n      <td>6903.960000</td>\n      <td>6930.938333</td>\n      <td>6936.295000</td>\n      <td>6985.168333</td>\n      <td>6962.906667</td>\n      <td>7000.793333</td>\n      <td>7055.186667</td>\n      <td>6994.615000</td>\n      <td>...</td>\n      <td>3144.645000</td>\n      <td>3185.823333</td>\n      <td>3115.233333</td>\n      <td>3115.273333</td>\n      <td>3205.376667</td>\n      <td>3226.246667</td>\n      <td>3204.653333</td>\n      <td>3098.793333</td>\n      <td>3125.781667</td>\n      <td>3153.063333</td>\n    </tr>\n    <tr>\n      <th>112699</th>\n      <td>6882.256667</td>\n      <td>0.000000</td>\n      <td>66.261667</td>\n      <td>93.240000</td>\n      <td>98.596667</td>\n      <td>147.470000</td>\n      <td>125.208333</td>\n      <td>160.751667</td>\n      <td>208.895000</td>\n      <td>124.326667</td>\n      <td>...</td>\n      <td>4032.180000</td>\n      <td>3987.491667</td>\n      <td>4056.625000</td>\n      <td>4044.465000</td>\n      <td>3903.250000</td>\n      <td>3871.105000</td>\n      <td>3833.738333</td>\n      <td>3955.936667</td>\n      <td>3930.318333</td>\n      <td>3886.851667</td>\n    </tr>\n    <tr>\n      <th>117157</th>\n      <td>6904.581667</td>\n      <td>66.736667</td>\n      <td>0.000000</td>\n      <td>27.390000</td>\n      <td>32.746667</td>\n      <td>81.620000</td>\n      <td>59.358333</td>\n      <td>97.245000</td>\n      <td>151.638333</td>\n      <td>91.066667</td>\n      <td>...</td>\n      <td>4054.505000</td>\n      <td>4009.816667</td>\n      <td>4078.950000</td>\n      <td>4066.790000</td>\n      <td>3925.575000</td>\n      <td>3893.430000</td>\n      <td>3856.063333</td>\n      <td>3978.261667</td>\n      <td>3952.643333</td>\n      <td>3909.176667</td>\n    </tr>\n    <tr>\n      <th>114841</th>\n      <td>6932.393333</td>\n      <td>94.548333</td>\n      <td>28.223333</td>\n      <td>0.000000</td>\n      <td>6.511667</td>\n      <td>54.353333</td>\n      <td>37.766667</td>\n      <td>70.325000</td>\n      <td>124.718333</td>\n      <td>69.475000</td>\n      <td>...</td>\n      <td>4082.316667</td>\n      <td>4037.628333</td>\n      <td>4106.761667</td>\n      <td>4094.601667</td>\n      <td>3953.386667</td>\n      <td>3921.241667</td>\n      <td>3883.875000</td>\n      <td>4006.073333</td>\n      <td>3980.455000</td>\n      <td>3936.988333</td>\n    </tr>\n    <tr>\n      <th>547899</th>\n      <td>6937.638333</td>\n      <td>99.793333</td>\n      <td>33.468333</td>\n      <td>6.391667</td>\n      <td>0.000000</td>\n      <td>49.198333</td>\n      <td>41.483333</td>\n      <td>69.028333</td>\n      <td>123.216667</td>\n      <td>72.351667</td>\n      <td>...</td>\n      <td>4087.561667</td>\n      <td>4042.873333</td>\n      <td>4112.006667</td>\n      <td>4099.846667</td>\n      <td>3958.631667</td>\n      <td>3926.486667</td>\n      <td>3889.120000</td>\n      <td>4011.318333</td>\n      <td>3985.700000</td>\n      <td>3942.233333</td>\n    </tr>\n    <tr>\n      <th>...</th>\n      <td>...</td>\n      <td>...</td>\n      <td>...</td>\n      <td>...</td>\n      <td>...</td>\n      <td>...</td>\n      <td>...</td>\n      <td>...</td>\n      <td>...</td>\n      <td>...</td>\n      <td>...</td>\n      <td>...</td>\n      <td>...</td>\n      <td>...</td>\n      <td>...</td>\n      <td>...</td>\n      <td>...</td>\n      <td>...</td>\n      <td>...</td>\n      <td>...</td>\n      <td>...</td>\n    </tr>\n    <tr>\n      <th>534234</th>\n      <td>3215.851667</td>\n      <td>3860.618333</td>\n      <td>3882.640000</td>\n      <td>3909.618333</td>\n      <td>3914.975000</td>\n      <td>3963.848333</td>\n      <td>3941.586667</td>\n      <td>3979.473333</td>\n      <td>4033.866667</td>\n      <td>3973.295000</td>\n      <td>...</td>\n      <td>231.583333</td>\n      <td>194.940000</td>\n      <td>244.741667</td>\n      <td>220.348333</td>\n      <td>112.378333</td>\n      <td>0.000000</td>\n      <td>42.865000</td>\n      <td>129.401667</td>\n      <td>104.783333</td>\n      <td>79.108333</td>\n    </tr>\n    <tr>\n      <th>98815</th>\n      <td>3200.956667</td>\n      <td>3829.983333</td>\n      <td>3852.005000</td>\n      <td>3878.983333</td>\n      <td>3884.340000</td>\n      <td>3933.213333</td>\n      <td>3910.951667</td>\n      <td>3948.838333</td>\n      <td>4003.231667</td>\n      <td>3942.660000</td>\n      <td>...</td>\n      <td>269.843333</td>\n      <td>235.558333</td>\n      <td>283.001667</td>\n      <td>258.608333</td>\n      <td>155.163333</td>\n      <td>49.383333</td>\n      <td>0.000000</td>\n      <td>124.468333</td>\n      <td>98.850000</td>\n      <td>55.383333</td>\n    </tr>\n    <tr>\n      <th>96464</th>\n      <td>3098.641667</td>\n      <td>3955.725000</td>\n      <td>3977.746667</td>\n      <td>4004.725000</td>\n      <td>4010.081667</td>\n      <td>4058.955000</td>\n      <td>4036.693333</td>\n      <td>4074.580000</td>\n      <td>4128.973333</td>\n      <td>4068.401667</td>\n      <td>...</td>\n      <td>224.166667</td>\n      <td>191.350000</td>\n      <td>200.993333</td>\n      <td>176.600000</td>\n      <td>130.905000</td>\n      <td>139.270000</td>\n      <td>128.013333</td>\n      <td>0.000000</td>\n      <td>29.270000</td>\n      <td>72.978333</td>\n    </tr>\n    <tr>\n      <th>99724</th>\n      <td>3123.753333</td>\n      <td>3928.245000</td>\n      <td>3950.266667</td>\n      <td>3977.245000</td>\n      <td>3982.601667</td>\n      <td>4031.475000</td>\n      <td>4009.213333</td>\n      <td>4047.100000</td>\n      <td>4101.493333</td>\n      <td>4040.921667</td>\n      <td>...</td>\n      <td>230.025000</td>\n      <td>195.740000</td>\n      <td>225.651667</td>\n      <td>201.258333</td>\n      <td>127.548333</td>\n      <td>112.781667</td>\n      <td>100.533333</td>\n      <td>27.401667</td>\n      <td>0.000000</td>\n      <td>45.498333</td>\n    </tr>\n    <tr>\n      <th>97324</th>\n      <td>3149.011667</td>\n      <td>3882.746667</td>\n      <td>3904.768333</td>\n      <td>3931.746667</td>\n      <td>3937.103333</td>\n      <td>3985.976667</td>\n      <td>3963.715000</td>\n      <td>4001.601667</td>\n      <td>4055.995000</td>\n      <td>3995.423333</td>\n      <td>...</td>\n      <td>254.713333</td>\n      <td>220.428333</td>\n      <td>265.343333</td>\n      <td>240.950000</td>\n      <td>152.048333</td>\n      <td>84.943333</td>\n      <td>55.035000</td>\n      <td>69.085000</td>\n      <td>43.466667</td>\n      <td>0.000000</td>\n    </tr>\n  </tbody>\n</table>\n<p>2000 rows × 2000 columns</p>\n</div>"
     },
     "execution_count": 32,
     "metadata": {},
     "output_type": "execute_result"
    }
   ],
   "source": [
    "time_matrix/60"
   ]
  },
  {
   "cell_type": "code",
   "execution_count": null,
   "outputs": [],
   "source": [],
   "metadata": {
    "collapsed": false
   }
  }
 ],
 "metadata": {
  "kernelspec": {
   "display_name": "Python 3.11.0 ('gdal_env')",
   "language": "python",
   "name": "python3"
  },
  "language_info": {
   "codemirror_mode": {
    "name": "ipython",
    "version": 3
   },
   "file_extension": ".py",
   "mimetype": "text/x-python",
   "name": "python",
   "nbconvert_exporter": "python",
   "pygments_lexer": "ipython3",
   "version": "3.11.0"
  },
  "orig_nbformat": 4,
  "vscode": {
   "interpreter": {
    "hash": "94217746da8e8c86283c8d1491e6c5510c7fc482e4d8730d8ed7b70617eb0559"
   }
  }
 },
 "nbformat": 4,
 "nbformat_minor": 2
}
