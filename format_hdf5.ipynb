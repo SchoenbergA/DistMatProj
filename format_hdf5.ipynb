{
 "cells": [
  {
   "cell_type": "code",
   "execution_count": 1,
   "metadata": {
    "collapsed": true
   },
   "outputs": [],
   "source": [
    "import pandas as pd\n",
    "from pandas import HDFStore\n",
    "from pathlib import Path\n",
    "import warnings"
   ]
  },
  {
   "cell_type": "markdown",
   "source": [
    "# Speichert das ganze als hdf5 ab (jede Zeile als eigenes key-value pair mit der zur zeile gehörenden gid als key. also die distanzen von key_gid zu allen anderen, Reihenfolge wie im header."
   ],
   "metadata": {
    "collapsed": false
   }
  },
  {
   "cell_type": "code",
   "execution_count": 10,
   "outputs": [
    {
     "name": "stdout",
     "output_type": "stream",
     "text": [
      "CPU times: user 6 µs, sys: 1e+03 ns, total: 7 µs\n",
      "Wall time: 12.9 µs\n",
      "1000\n",
      "2000\n",
      "3000\n",
      "4000\n",
      "5000\n",
      "6000\n",
      "7000\n",
      "8000\n",
      "9000\n",
      "10000\n",
      "11000\n",
      "12000\n",
      "13000\n",
      "14000\n",
      "15000\n",
      "16000\n",
      "17000\n",
      "18000\n",
      "19000\n",
      "20000\n",
      "21000\n",
      "22000\n",
      "23000\n",
      "24000\n",
      "25000\n",
      "26000\n",
      "27000\n",
      "28000\n",
      "29000\n",
      "30000\n",
      "31000\n",
      "32000\n",
      "33000\n",
      "34000\n",
      "35000\n",
      "36000\n",
      "37000\n",
      "38000\n",
      "39000\n",
      "40000\n",
      "41000\n",
      "42000\n",
      "43000\n",
      "44000\n",
      "45000\n",
      "46000\n",
      "47000\n",
      "48000\n",
      "49000\n",
      "50000\n",
      "51000\n"
     ]
    }
   ],
   "source": [
    "%time\n",
    "distanzmatrix_name = \"Distanzmatrix.h5\"#_table.h5\"\n",
    "MAIN_DIR = Path(\"/media/praisethesun/INTENSO/DistMatProj/DR/Distanzmatrix/\")\n",
    "ROWS_AS_SERIES = MAIN_DIR/\"rows_as_series\"\n",
    "\n",
    "store = HDFStore(MAIN_DIR/distanzmatrix_name)\n",
    "\n",
    "gids = pd.read_csv(MAIN_DIR/\"header_gids.csv\", header=None).squeeze()\n",
    "store[\"header_gids\"] = gids\n",
    "\n",
    "c = 0\n",
    "# HDF5 hat wohl ein Problem wenn die keys nur nummern sind,\n",
    "# das gibt dann eine Warning die ich unterdrückt hab weil die\n",
    "# Ausgabe sonst nervt\n",
    "with warnings.catch_warnings():\n",
    "    warnings.simplefilter(\"ignore\")\n",
    "    for gid in gids:\n",
    "        row = pd.read_csv(ROWS_AS_SERIES/f\"{gid}.csv\", header=None).squeeze()\n",
    "        store.put(key=str(gid), value=row)# , format='table')\n",
    "        c += 1\n",
    "        if c % 1000 == 0:\n",
    "           print(c)\n",
    "store.close()"
   ],
   "metadata": {
    "collapsed": false
   }
  },
  {
   "cell_type": "markdown",
   "source": [
    "## Hier nochmal testweise beide versionen zum auswählen, unten nochmal die endversion"
   ],
   "metadata": {
    "collapsed": false
   }
  },
  {
   "cell_type": "code",
   "execution_count": 26,
   "outputs": [],
   "source": [
    "def get_distances(list_of_gids, version='fixed'):\n",
    "    list_of_gids = pd.Series(list_of_gids)\n",
    "\n",
    "    MAIN_DIR = Path(\"/media/praisethesun/INTENSO/DistMatProj/DR/Distanzmatrix/\") # better define globally\n",
    "\n",
    "    distanzmatrix_name = \"Distanzmatrix_table.h5\" if version == 'table' else \"Distanzmatrix.h5\"\n",
    "\n",
    "    store = HDFStore(MAIN_DIR/distanzmatrix_name)\n",
    "    header = store[\"header_gids\"]\n",
    "\n",
    "    gids_not_found = list_of_gids[~list_of_gids.isin(header)]\n",
    "    if len(gids_not_found) > 0:\n",
    "        raise ValueError(\"Following gids not found: \" + gids_not_found.to_string())\n",
    "\n",
    "    query_mask = gids.isin(list_of_gids)\n",
    "    list_of_gids = gids[query_mask] # reorder\n",
    "\n",
    "    series = []\n",
    "    for gid in list_of_gids:\n",
    "        if version == 'table':\n",
    "            next = store.select(str(gid), where=query_mask)\n",
    "        else:\n",
    "            next = store[str(gid)]\n",
    "            next = next[query_mask]\n",
    "        series.append(next)\n",
    "\n",
    "    res = pd.DataFrame(series)\n",
    "    res.columns = list_of_gids\n",
    "    res.index = list_of_gids\n",
    "\n",
    "    store.close()\n",
    "    return res\n"
   ],
   "metadata": {
    "collapsed": false
   }
  },
  {
   "cell_type": "markdown",
   "source": [
    "# TESTS etc."
   ],
   "metadata": {
    "collapsed": false
   }
  },
  {
   "cell_type": "code",
   "execution_count": 22,
   "outputs": [],
   "source": [
    "DATA_DIR = Path(\"/media/praisethesun/INTENSO/DistMatProj/DR/Distanzmatrix/\")\n",
    "ROWS_DIR = DATA_DIR/ \"as_rows\"\n",
    "AS_COLUMNS = DATA_DIR/\"rows_as_series\""
   ],
   "metadata": {
    "collapsed": false
   }
  },
  {
   "cell_type": "code",
   "execution_count": 29,
   "outputs": [],
   "source": [
    "gids = pd.read_csv(DATA_DIR/\"header_gids.csv\", header=None).squeeze()\n",
    "list_of_gids = gids.sample(5000)"
   ],
   "metadata": {
    "collapsed": false
   }
  },
  {
   "cell_type": "code",
   "execution_count": 30,
   "outputs": [
    {
     "name": "stdout",
     "output_type": "stream",
     "text": [
      "25.7 s ± 17.7 s per loop (mean ± std. dev. of 7 runs, 1 loop each)\n"
     ]
    }
   ],
   "source": [
    "%timeit get_distances(list_of_gids, version='fixed')"
   ],
   "metadata": {
    "collapsed": false
   }
  },
  {
   "cell_type": "code",
   "execution_count": 31,
   "outputs": [
    {
     "name": "stdout",
     "output_type": "stream",
     "text": [
      "1min 17s ± 21.4 s per loop (mean ± std. dev. of 7 runs, 1 loop each)\n"
     ]
    }
   ],
   "source": [
    "%timeit get_distances(list_of_gids, version='table')"
   ],
   "metadata": {
    "collapsed": false
   }
  },
  {
   "cell_type": "markdown",
   "source": [
    "## Deswegen hatte ich die Zeilen nochmal als Series/Spalte abgespeichert (ersteres sind die Zeilen, letzteres die Zeilen als \"Spalten\"):"
   ],
   "metadata": {
    "collapsed": false
   }
  },
  {
   "cell_type": "code",
   "execution_count": null,
   "outputs": [],
   "source": [
    "gid = gids[42]"
   ],
   "metadata": {
    "collapsed": false
   }
  },
  {
   "cell_type": "code",
   "execution_count": 113,
   "outputs": [
    {
     "name": "stdout",
     "output_type": "stream",
     "text": [
      "1.18 s ± 39.8 ms per loop (mean ± std. dev. of 7 runs, 1 loop each)\n"
     ]
    }
   ],
   "source": [
    "%timeit row = pd.read_csv(ROWS_DIR/f\"{gid}.csv\", header=None)"
   ],
   "metadata": {
    "collapsed": false
   }
  },
  {
   "cell_type": "code",
   "execution_count": 109,
   "outputs": [
    {
     "name": "stdout",
     "output_type": "stream",
     "text": [
      "9.75 ms ± 889 µs per loop (mean ± std. dev. of 7 runs, 100 loops each)\n"
     ]
    }
   ],
   "source": [
    "%timeit row = pd.read_csv(AS_COLUMNS/f\"{gid}.csv\", header=None)"
   ],
   "metadata": {
    "collapsed": false
   }
  },
  {
   "cell_type": "markdown",
   "source": [
    "## Hier die richtige get_distances():"
   ],
   "metadata": {
    "collapsed": false
   }
  },
  {
   "cell_type": "code",
   "execution_count": 2,
   "outputs": [],
   "source": [
    "def get_distances(list_of_gids):\n",
    "\n",
    "    # list_of_gids = pd.Series(list_of_gids)\n",
    "    # muss dann als pandas.Series übergeben werden\n",
    "\n",
    "    MAIN_DIR = Path(\"/media/praisethesun/INTENSO/DistMatProj/DR/Distanzmatrix/\") # better define globally\n",
    "\n",
    "    store = HDFStore(MAIN_DIR/\"Distanzmatrix.h5\")\n",
    "    header = store[\"header_gids\"]\n",
    "\n",
    "    # vielleicht nicht nötig wenn der Fall vorher abgefangen wird\n",
    "    gids_not_found = list_of_gids[~list_of_gids.isin(header)]\n",
    "    if len(gids_not_found) > 0:\n",
    "        raise ValueError(\"Following gids not found: \" + gids_not_found.to_string(index=False))\n",
    "\n",
    "    query_mask = header.isin(list_of_gids)\n",
    "    list_of_gids = header[query_mask] # reorder\n",
    "\n",
    "    series = []\n",
    "    for gid in list_of_gids:\n",
    "        next = store[str(gid)]\n",
    "        next = next[query_mask]\n",
    "        series.append(next)\n",
    "\n",
    "    res = pd.DataFrame(series)\n",
    "    res.columns = list_of_gids\n",
    "    res.index = list_of_gids\n",
    "\n",
    "    store.close()\n",
    "    return res\n"
   ],
   "metadata": {
    "collapsed": false
   }
  },
  {
   "cell_type": "code",
   "execution_count": 5,
   "outputs": [
    {
     "name": "stdout",
     "output_type": "stream",
     "text": [
      "Following gids not found: 2    1\n"
     ]
    }
   ],
   "source": [
    "gids = [522647,522710, 1]\n",
    "t = pd.Series(gids)\n",
    "try:\n",
    "    get_distances(t).to_json(orient='split')\n",
    "except ValueError as val_err:\n",
    "    print(val_err)"
   ],
   "metadata": {
    "collapsed": false
   }
  },
  {
   "cell_type": "code",
   "execution_count": 8,
   "outputs": [
    {
     "name": "stdout",
     "output_type": "stream",
     "text": [
      "522647\n",
      "522710\n",
      "     1\n"
     ]
    }
   ],
   "source": [
    "gids = [522647,522710, 1]\n",
    "t = pd.Series(gids)\n",
    "print(t.to_string(index=False))"
   ],
   "metadata": {
    "collapsed": false
   }
  }
 ],
 "metadata": {
  "kernelspec": {
   "display_name": "Python 3",
   "language": "python",
   "name": "python3"
  },
  "language_info": {
   "codemirror_mode": {
    "name": "ipython",
    "version": 2
   },
   "file_extension": ".py",
   "mimetype": "text/x-python",
   "name": "python",
   "nbconvert_exporter": "python",
   "pygments_lexer": "ipython2",
   "version": "2.7.6"
  }
 },
 "nbformat": 4,
 "nbformat_minor": 0
}
